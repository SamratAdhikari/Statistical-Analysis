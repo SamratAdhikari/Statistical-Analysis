{
 "cells": [
  {
   "cell_type": "markdown",
   "id": "ca5c6fbb",
   "metadata": {},
   "source": [
    "# CUSTOMER INCOME DATASET ANALYSIS"
   ]
  },
  {
   "cell_type": "markdown",
   "id": "bbce7ec5",
   "metadata": {},
   "source": [
    " "
   ]
  },
  {
   "cell_type": "markdown",
   "id": "98b41f73",
   "metadata": {},
   "source": [
    "## Modules"
   ]
  },
  {
   "cell_type": "code",
   "execution_count": 45,
   "id": "48ba8d9c",
   "metadata": {},
   "outputs": [],
   "source": [
    "import numpy as np\n",
    "import pandas as pd\n",
    "import matplotlib.pyplot as plt\n",
    "import scipy.stats as sts\n",
    "import seaborn as sbs\n",
    "\n",
    "import warnings\n",
    "warnings.filterwarnings(\"ignore\")"
   ]
  },
  {
   "cell_type": "markdown",
   "id": "4cd9082a",
   "metadata": {},
   "source": [
    " "
   ]
  },
  {
   "cell_type": "markdown",
   "id": "f734dd2d",
   "metadata": {},
   "source": [
    "## Initializing the dataset"
   ]
  },
  {
   "cell_type": "code",
   "execution_count": 8,
   "id": "5a55cc20",
   "metadata": {},
   "outputs": [
    {
     "data": {
      "text/html": [
       "<div>\n",
       "<style scoped>\n",
       "    .dataframe tbody tr th:only-of-type {\n",
       "        vertical-align: middle;\n",
       "    }\n",
       "\n",
       "    .dataframe tbody tr th {\n",
       "        vertical-align: top;\n",
       "    }\n",
       "\n",
       "    .dataframe thead th {\n",
       "        text-align: right;\n",
       "    }\n",
       "</style>\n",
       "<table border=\"1\" class=\"dataframe\">\n",
       "  <thead>\n",
       "    <tr style=\"text-align: right;\">\n",
       "      <th></th>\n",
       "      <th>CustomerID</th>\n",
       "      <th>CustomerGender</th>\n",
       "      <th>CustomerAge</th>\n",
       "      <th>CustomerCity</th>\n",
       "      <th>AnnualIncome</th>\n",
       "      <th>CreditScore</th>\n",
       "      <th>SpendingScore</th>\n",
       "      <th>CustomerCityID</th>\n",
       "    </tr>\n",
       "  </thead>\n",
       "  <tbody>\n",
       "    <tr>\n",
       "      <th>0</th>\n",
       "      <td>1001</td>\n",
       "      <td>Male</td>\n",
       "      <td>49</td>\n",
       "      <td>Bengaluru</td>\n",
       "      <td>527547.58850</td>\n",
       "      <td>653</td>\n",
       "      <td>78</td>\n",
       "      <td>1</td>\n",
       "    </tr>\n",
       "    <tr>\n",
       "      <th>1</th>\n",
       "      <td>1002</td>\n",
       "      <td>Male</td>\n",
       "      <td>59</td>\n",
       "      <td>Bengaluru</td>\n",
       "      <td>207143.19760</td>\n",
       "      <td>630</td>\n",
       "      <td>63</td>\n",
       "      <td>1</td>\n",
       "    </tr>\n",
       "    <tr>\n",
       "      <th>2</th>\n",
       "      <td>1003</td>\n",
       "      <td>Female</td>\n",
       "      <td>54</td>\n",
       "      <td>Delhi</td>\n",
       "      <td>164423.84570</td>\n",
       "      <td>555</td>\n",
       "      <td>69</td>\n",
       "      <td>4</td>\n",
       "    </tr>\n",
       "    <tr>\n",
       "      <th>3</th>\n",
       "      <td>1004</td>\n",
       "      <td>Female</td>\n",
       "      <td>42</td>\n",
       "      <td>Bengaluru</td>\n",
       "      <td>56220.36443</td>\n",
       "      <td>699</td>\n",
       "      <td>30</td>\n",
       "      <td>1</td>\n",
       "    </tr>\n",
       "    <tr>\n",
       "      <th>4</th>\n",
       "      <td>1005</td>\n",
       "      <td>Female</td>\n",
       "      <td>30</td>\n",
       "      <td>Bengaluru</td>\n",
       "      <td>256194.36190</td>\n",
       "      <td>793</td>\n",
       "      <td>6</td>\n",
       "      <td>1</td>\n",
       "    </tr>\n",
       "  </tbody>\n",
       "</table>\n",
       "</div>"
      ],
      "text/plain": [
       "   CustomerID CustomerGender  CustomerAge CustomerCity  AnnualIncome  \\\n",
       "0        1001           Male           49    Bengaluru  527547.58850   \n",
       "1        1002           Male           59    Bengaluru  207143.19760   \n",
       "2        1003         Female           54        Delhi  164423.84570   \n",
       "3        1004         Female           42    Bengaluru   56220.36443   \n",
       "4        1005         Female           30    Bengaluru  256194.36190   \n",
       "\n",
       "   CreditScore  SpendingScore  CustomerCityID  \n",
       "0          653             78               1  \n",
       "1          630             63               1  \n",
       "2          555             69               4  \n",
       "3          699             30               1  \n",
       "4          793              6               1  "
      ]
     },
     "execution_count": 8,
     "metadata": {},
     "output_type": "execute_result"
    }
   ],
   "source": [
    "df = pd.read_csv(\"customer_income_data.csv\")\n",
    "df.head()"
   ]
  },
  {
   "cell_type": "markdown",
   "id": "06034b86",
   "metadata": {},
   "source": [
    " "
   ]
  },
  {
   "cell_type": "markdown",
   "id": "fa6c1026",
   "metadata": {},
   "source": [
    "## Cleaning the dataframe"
   ]
  },
  {
   "cell_type": "markdown",
   "id": "c9875616",
   "metadata": {},
   "source": [
    "### Checking for null values"
   ]
  },
  {
   "cell_type": "code",
   "execution_count": 9,
   "id": "7cadd82c",
   "metadata": {},
   "outputs": [
    {
     "data": {
      "text/plain": [
       "CustomerID        0\n",
       "CustomerGender    0\n",
       "CustomerAge       0\n",
       "CustomerCity      0\n",
       "AnnualIncome      0\n",
       "CreditScore       0\n",
       "SpendingScore     0\n",
       "CustomerCityID    0\n",
       "dtype: int64"
      ]
     },
     "execution_count": 9,
     "metadata": {},
     "output_type": "execute_result"
    }
   ],
   "source": [
    "df.isnull().sum()\n",
    "# df.dropna()"
   ]
  },
  {
   "cell_type": "markdown",
   "id": "1a7ac86b",
   "metadata": {},
   "source": [
    "### Looking at the Five Points Summary of the dataframe"
   ]
  },
  {
   "cell_type": "code",
   "execution_count": 11,
   "id": "54e96e30",
   "metadata": {},
   "outputs": [
    {
     "data": {
      "text/html": [
       "<div>\n",
       "<style scoped>\n",
       "    .dataframe tbody tr th:only-of-type {\n",
       "        vertical-align: middle;\n",
       "    }\n",
       "\n",
       "    .dataframe tbody tr th {\n",
       "        vertical-align: top;\n",
       "    }\n",
       "\n",
       "    .dataframe thead th {\n",
       "        text-align: right;\n",
       "    }\n",
       "</style>\n",
       "<table border=\"1\" class=\"dataframe\">\n",
       "  <thead>\n",
       "    <tr style=\"text-align: right;\">\n",
       "      <th></th>\n",
       "      <th>CustomerID</th>\n",
       "      <th>CustomerAge</th>\n",
       "      <th>AnnualIncome</th>\n",
       "      <th>CreditScore</th>\n",
       "      <th>SpendingScore</th>\n",
       "      <th>CustomerCityID</th>\n",
       "    </tr>\n",
       "  </thead>\n",
       "  <tbody>\n",
       "    <tr>\n",
       "      <th>count</th>\n",
       "      <td>200.000000</td>\n",
       "      <td>200.000000</td>\n",
       "      <td>200.000000</td>\n",
       "      <td>200.000000</td>\n",
       "      <td>200.00000</td>\n",
       "      <td>200.000000</td>\n",
       "    </tr>\n",
       "    <tr>\n",
       "      <th>mean</th>\n",
       "      <td>1100.500000</td>\n",
       "      <td>45.520000</td>\n",
       "      <td>285143.931646</td>\n",
       "      <td>719.975000</td>\n",
       "      <td>50.70500</td>\n",
       "      <td>2.850000</td>\n",
       "    </tr>\n",
       "    <tr>\n",
       "      <th>std</th>\n",
       "      <td>57.879185</td>\n",
       "      <td>16.113592</td>\n",
       "      <td>169229.187619</td>\n",
       "      <td>104.578236</td>\n",
       "      <td>28.72269</td>\n",
       "      <td>1.475938</td>\n",
       "    </tr>\n",
       "    <tr>\n",
       "      <th>min</th>\n",
       "      <td>1001.000000</td>\n",
       "      <td>18.000000</td>\n",
       "      <td>2577.057456</td>\n",
       "      <td>551.000000</td>\n",
       "      <td>2.00000</td>\n",
       "      <td>1.000000</td>\n",
       "    </tr>\n",
       "    <tr>\n",
       "      <th>25%</th>\n",
       "      <td>1050.750000</td>\n",
       "      <td>31.750000</td>\n",
       "      <td>153227.340950</td>\n",
       "      <td>628.250000</td>\n",
       "      <td>27.75000</td>\n",
       "      <td>1.750000</td>\n",
       "    </tr>\n",
       "    <tr>\n",
       "      <th>50%</th>\n",
       "      <td>1100.500000</td>\n",
       "      <td>46.500000</td>\n",
       "      <td>263418.505550</td>\n",
       "      <td>715.000000</td>\n",
       "      <td>48.00000</td>\n",
       "      <td>3.000000</td>\n",
       "    </tr>\n",
       "    <tr>\n",
       "      <th>75%</th>\n",
       "      <td>1150.250000</td>\n",
       "      <td>59.000000</td>\n",
       "      <td>384857.116200</td>\n",
       "      <td>806.250000</td>\n",
       "      <td>77.00000</td>\n",
       "      <td>4.000000</td>\n",
       "    </tr>\n",
       "    <tr>\n",
       "      <th>max</th>\n",
       "      <td>1200.000000</td>\n",
       "      <td>75.000000</td>\n",
       "      <td>695407.091700</td>\n",
       "      <td>897.000000</td>\n",
       "      <td>100.00000</td>\n",
       "      <td>5.000000</td>\n",
       "    </tr>\n",
       "  </tbody>\n",
       "</table>\n",
       "</div>"
      ],
      "text/plain": [
       "        CustomerID  CustomerAge   AnnualIncome  CreditScore  SpendingScore  \\\n",
       "count   200.000000   200.000000     200.000000   200.000000      200.00000   \n",
       "mean   1100.500000    45.520000  285143.931646   719.975000       50.70500   \n",
       "std      57.879185    16.113592  169229.187619   104.578236       28.72269   \n",
       "min    1001.000000    18.000000    2577.057456   551.000000        2.00000   \n",
       "25%    1050.750000    31.750000  153227.340950   628.250000       27.75000   \n",
       "50%    1100.500000    46.500000  263418.505550   715.000000       48.00000   \n",
       "75%    1150.250000    59.000000  384857.116200   806.250000       77.00000   \n",
       "max    1200.000000    75.000000  695407.091700   897.000000      100.00000   \n",
       "\n",
       "       CustomerCityID  \n",
       "count      200.000000  \n",
       "mean         2.850000  \n",
       "std          1.475938  \n",
       "min          1.000000  \n",
       "25%          1.750000  \n",
       "50%          3.000000  \n",
       "75%          4.000000  \n",
       "max          5.000000  "
      ]
     },
     "execution_count": 11,
     "metadata": {},
     "output_type": "execute_result"
    }
   ],
   "source": [
    "df.describe()"
   ]
  },
  {
   "cell_type": "markdown",
   "id": "bda2228a",
   "metadata": {},
   "source": [
    "### Looking at the columns of the dataframe"
   ]
  },
  {
   "cell_type": "code",
   "execution_count": 14,
   "id": "a4376c1c",
   "metadata": {},
   "outputs": [
    {
     "data": {
      "text/plain": [
       "Index(['CustomerID', 'CustomerGender', 'CustomerAge', 'CustomerCity',\n",
       "       'AnnualIncome', 'CreditScore', 'SpendingScore', 'CustomerCityID'],\n",
       "      dtype='object')"
      ]
     },
     "execution_count": 14,
     "metadata": {},
     "output_type": "execute_result"
    }
   ],
   "source": [
    "df.columns"
   ]
  },
  {
   "cell_type": "markdown",
   "id": "a412e635",
   "metadata": {},
   "source": [
    " "
   ]
  },
  {
   "cell_type": "markdown",
   "id": "f3606dab",
   "metadata": {},
   "source": [
    "## Data Visualization"
   ]
  },
  {
   "cell_type": "code",
   "execution_count": 27,
   "id": "7e534171",
   "metadata": {},
   "outputs": [
    {
     "data": {
      "image/png": "[encoded data removed]",
      "text/plain": [
       "<Figure size 1500x1500 with 4 Axes>"
      ]
     },
     "metadata": {},
     "output_type": "display_data"
    }
   ],
   "source": [
    "plt.figure(figsize=(15, 15))\n",
    "\n",
    "\n",
    "plt.subplot(2, 2, 1)\n",
    "plt.hist(df['CustomerAge'], bins=15)\n",
    "plt.title('Histogram of Customer Age', fontdict={'size':10})\n",
    "\n",
    "plt.subplot(2, 2, 2)\n",
    "plt.hist(df['AnnualIncome'], bins=15)\n",
    "plt.xticks(rotation='vertical')\n",
    "plt.title('Histogram of Annual Income', fontdict={'size':10})\n",
    "\n",
    "plt.subplot(2, 2, 3)\n",
    "plt.hist(df['CreditScore'], bins=15)\n",
    "plt.title('Histogram of Credit Score', fontdict={'size':10})\n",
    "\n",
    "plt.subplot(2, 2, 4)\n",
    "plt.hist(df['SpendingScore'], bins=15)\n",
    "plt.title('Histogram of Spending Score', fontdict={'size':10})\n",
    "\n",
    "plt.show()"
   ]
  },
  {
   "cell_type": "markdown",
   "id": "6234beea",
   "metadata": {},
   "source": [
    " "
   ]
  },
  {
   "cell_type": "markdown",
   "id": "b27562e5",
   "metadata": {},
   "source": [
    "## Data Analysis"
   ]
  },
  {
   "cell_type": "markdown",
   "id": "688c2fd3",
   "metadata": {},
   "source": [
    "### Measures of Central Tendency"
   ]
  },
  {
   "cell_type": "code",
   "execution_count": 31,
   "id": "711b4ea4",
   "metadata": {},
   "outputs": [
    {
     "data": {
      "text/plain": [
       "0        2577.057456\n",
       "1        5121.652342\n",
       "2       10349.414070\n",
       "3       12396.061280\n",
       "4       15305.842870\n",
       "           ...      \n",
       "195    651534.309800\n",
       "196    671028.187200\n",
       "197    675461.735700\n",
       "198    687212.770700\n",
       "199    695407.091700\n",
       "Name: AnnualIncome, Length: 200, dtype: float64"
      ]
     },
     "execution_count": 31,
     "metadata": {},
     "output_type": "execute_result"
    }
   ],
   "source": [
    "# Annual Income\n",
    "\n",
    "# mean\n",
    "df['AnnualIncome'].mean()\n",
    "\n",
    "# median\n",
    "df['AnnualIncome'].median()\n",
    "\n",
    "# mode\n",
    "df['AnnualIncome'].mode()"
   ]
  },
  {
   "cell_type": "markdown",
   "id": "1a141581",
   "metadata": {},
   "source": [
    "### Measures of Shape and Variability"
   ]
  },
  {
   "cell_type": "code",
   "execution_count": 35,
   "id": "bc99963a",
   "metadata": {},
   "outputs": [
    {
     "data": {
      "text/plain": [
       "0.10081837365183154"
      ]
     },
     "execution_count": 35,
     "metadata": {},
     "output_type": "execute_result"
    }
   ],
   "source": [
    "# variance\n",
    "df['SpendingScore'].var()\n",
    "\n",
    "# standard deviation\n",
    "df['SpendingScore'].std()\n",
    "\n",
    "# skewness\n",
    "sts.skew(df['SpendingScore'])"
   ]
  },
  {
   "cell_type": "markdown",
   "id": "a859f03d",
   "metadata": {},
   "source": [
    "### Detecting Outliers using z-score"
   ]
  },
  {
   "cell_type": "code",
   "execution_count": 41,
   "id": "b54ccda6",
   "metadata": {},
   "outputs": [
    {
     "data": {
      "text/plain": [
       "(array([ 62,  65, 114, 148, 155, 166, 171, 177, 194]),\n",
       " array([0, 0, 0, 0, 0, 0, 0, 0, 0]))"
      ]
     },
     "execution_count": 41,
     "metadata": {},
     "output_type": "execute_result"
    }
   ],
   "source": [
    "z = np.abs(sts.zscore(df[['AnnualIncome', 'SpendingScore']]))\n",
    "z\n",
    "\n",
    "np.where(z > 2)"
   ]
  },
  {
   "cell_type": "markdown",
   "id": "b6dde758",
   "metadata": {},
   "source": [
    "It shows that the index/row 62, 65, 114, ... have z-score greater than 2 in Annual Income column.  \n",
    "Hence, these are our outiers."
   ]
  },
  {
   "cell_type": "code",
   "execution_count": 42,
   "id": "4784e80f",
   "metadata": {},
   "outputs": [
    {
     "data": {
      "text/plain": [
       "AnnualIncome     2.312233\n",
       "SpendingScore    0.289521\n",
       "Name: 62, dtype: float64"
      ]
     },
     "execution_count": 42,
     "metadata": {},
     "output_type": "execute_result"
    }
   ],
   "source": [
    "z.iloc[62]"
   ]
  },
  {
   "cell_type": "code",
   "execution_count": 44,
   "id": "b17f3920",
   "metadata": {},
   "outputs": [
    {
     "data": {
      "text/plain": [
       "AnnualIncome     2.381846\n",
       "SpendingScore    1.720546\n",
       "Name: 114, dtype: float64"
      ]
     },
     "execution_count": 44,
     "metadata": {},
     "output_type": "execute_result"
    }
   ],
   "source": [
    "z.iloc[114]"
   ]
  },
  {
   "cell_type": "markdown",
   "id": "dfb69e21",
   "metadata": {},
   "source": [
    "### Detecting Outliers using Scatter plot"
   ]
  },
  {
   "cell_type": "code",
   "execution_count": 47,
   "id": "5af98f24",
   "metadata": {},
   "outputs": [
    {
     "data": {
      "text/plain": [
       "<AxesSubplot: xlabel='CustomerAge', ylabel='SpendingScore'>"
      ]
     },
     "execution_count": 47,
     "metadata": {},
     "output_type": "execute_result"
    },
    {
     "data": {
      "image/png": "[encoded data removed]",
      "text/plain": [
       "<Figure size 640x480 with 1 Axes>"
      ]
     },
     "metadata": {},
     "output_type": "display_data"
    }
   ],
   "source": [
    "sbs.scatterplot(data=df, x='CustomerAge', y='SpendingScore')"
   ]
  },
  {
   "cell_type": "markdown",
   "id": "30b23528",
   "metadata": {},
   "source": [
    "From the scatterplot, we can clearly observe that the dataset is a random collection of data.   \n",
    "Hence, we dont seem to find any outliers in this dataset."
   ]
  }
 ],
 "metadata": {
  "kernelspec": {
   "display_name": "Python 3 (ipykernel)",
   "language": "python",
   "name": "python3"
  },
  "language_info": {
   "codemirror_mode": {
    "name": "ipython",
    "version": 3
   },
   "file_extension": ".py",
   "mimetype": "text/x-python",
   "name": "python",
   "nbconvert_exporter": "python",
   "pygments_lexer": "ipython3",
   "version": "3.10.6"
  }
 },
 "nbformat": 4,
 "nbformat_minor": 5
}
