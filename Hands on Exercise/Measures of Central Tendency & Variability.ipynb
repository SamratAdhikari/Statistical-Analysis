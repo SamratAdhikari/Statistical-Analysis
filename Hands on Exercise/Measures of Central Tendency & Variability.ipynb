{
 "cells": [
  {
   "cell_type": "markdown",
   "id": "4611a26b",
   "metadata": {},
   "source": [
    "## Modules"
   ]
  },
  {
   "cell_type": "code",
   "execution_count": 45,
   "id": "6c42f88c",
   "metadata": {},
   "outputs": [],
   "source": [
    "import pandas as pd\n",
    "import numpy as np\n",
    "import statistics as st"
   ]
  },
  {
   "cell_type": "markdown",
   "id": "5c928344",
   "metadata": {},
   "source": [
    " "
   ]
  },
  {
   "cell_type": "markdown",
   "id": "9b7bdf77",
   "metadata": {},
   "source": [
    "## Creating a Dataframe"
   ]
  },
  {
   "cell_type": "code",
   "execution_count": 10,
   "id": "1fdff172",
   "metadata": {},
   "outputs": [
    {
     "data": {
      "text/html": [
       "<div>\n",
       "<style scoped>\n",
       "    .dataframe tbody tr th:only-of-type {\n",
       "        vertical-align: middle;\n",
       "    }\n",
       "\n",
       "    .dataframe tbody tr th {\n",
       "        vertical-align: top;\n",
       "    }\n",
       "\n",
       "    .dataframe thead th {\n",
       "        text-align: right;\n",
       "    }\n",
       "</style>\n",
       "<table border=\"1\" class=\"dataframe\">\n",
       "  <thead>\n",
       "    <tr style=\"text-align: right;\">\n",
       "      <th></th>\n",
       "      <th>John</th>\n",
       "      <th>Adam</th>\n",
       "      <th>David</th>\n",
       "    </tr>\n",
       "  </thead>\n",
       "  <tbody>\n",
       "    <tr>\n",
       "      <th>0</th>\n",
       "      <td>98</td>\n",
       "      <td>88</td>\n",
       "      <td>90</td>\n",
       "    </tr>\n",
       "    <tr>\n",
       "      <th>1</th>\n",
       "      <td>87</td>\n",
       "      <td>52</td>\n",
       "      <td>92</td>\n",
       "    </tr>\n",
       "    <tr>\n",
       "      <th>2</th>\n",
       "      <td>76</td>\n",
       "      <td>69</td>\n",
       "      <td>71</td>\n",
       "    </tr>\n",
       "    <tr>\n",
       "      <th>3</th>\n",
       "      <td>88</td>\n",
       "      <td>69</td>\n",
       "      <td>60</td>\n",
       "    </tr>\n",
       "    <tr>\n",
       "      <th>4</th>\n",
       "      <td>98</td>\n",
       "      <td>82</td>\n",
       "      <td>64</td>\n",
       "    </tr>\n",
       "  </tbody>\n",
       "</table>\n",
       "</div>"
      ],
      "text/plain": [
       "   John  Adam  David\n",
       "0    98    88     90\n",
       "1    87    52     92\n",
       "2    76    69     71\n",
       "3    88    69     60\n",
       "4    98    82     64"
      ]
     },
     "execution_count": 10,
     "metadata": {},
     "output_type": "execute_result"
    }
   ],
   "source": [
    "df = pd.DataFrame({\"John\": [98, 87, 76, 88, 98],\n",
    "                  \"Adam\": [88, 52, 69, 69, 82],\n",
    "                  \"David\": [90, 92, 71, 60, 64]})\n",
    "df"
   ]
  },
  {
   "cell_type": "markdown",
   "id": "079c29e3",
   "metadata": {},
   "source": [
    "## Measures of Central Tendency"
   ]
  },
  {
   "cell_type": "markdown",
   "id": "2e94f74d",
   "metadata": {},
   "source": [
    "### Mean"
   ]
  },
  {
   "cell_type": "code",
   "execution_count": 35,
   "id": "c1a8e27f",
   "metadata": {},
   "outputs": [
    {
     "data": {
      "text/plain": [
       "John     89.4\n",
       "Adam     72.0\n",
       "David    75.4\n",
       "dtype: float64"
      ]
     },
     "execution_count": 35,
     "metadata": {},
     "output_type": "execute_result"
    }
   ],
   "source": [
    "df.mean(axis=0) # calculates the mean for each column"
   ]
  },
  {
   "cell_type": "markdown",
   "id": "2f03bf17",
   "metadata": {},
   "source": [
    "### Median"
   ]
  },
  {
   "cell_type": "code",
   "execution_count": 36,
   "id": "fc7bdb8f",
   "metadata": {},
   "outputs": [
    {
     "data": {
      "text/plain": [
       "John     88.0\n",
       "Adam     69.0\n",
       "David    71.0\n",
       "dtype: float64"
      ]
     },
     "execution_count": 36,
     "metadata": {},
     "output_type": "execute_result"
    }
   ],
   "source": [
    "df.median(axis=0) # calculates the median for each column"
   ]
  },
  {
   "cell_type": "markdown",
   "id": "acbdb1a5",
   "metadata": {},
   "source": [
    "### Mode"
   ]
  },
  {
   "cell_type": "code",
   "execution_count": 38,
   "id": "98c7c4e6",
   "metadata": {},
   "outputs": [
    {
     "data": {
      "text/html": [
       "<div>\n",
       "<style scoped>\n",
       "    .dataframe tbody tr th:only-of-type {\n",
       "        vertical-align: middle;\n",
       "    }\n",
       "\n",
       "    .dataframe tbody tr th {\n",
       "        vertical-align: top;\n",
       "    }\n",
       "\n",
       "    .dataframe thead th {\n",
       "        text-align: right;\n",
       "    }\n",
       "</style>\n",
       "<table border=\"1\" class=\"dataframe\">\n",
       "  <thead>\n",
       "    <tr style=\"text-align: right;\">\n",
       "      <th></th>\n",
       "      <th>John</th>\n",
       "      <th>Adam</th>\n",
       "      <th>David</th>\n",
       "    </tr>\n",
       "  </thead>\n",
       "  <tbody>\n",
       "    <tr>\n",
       "      <th>0</th>\n",
       "      <td>98.0</td>\n",
       "      <td>69.0</td>\n",
       "      <td>60</td>\n",
       "    </tr>\n",
       "    <tr>\n",
       "      <th>1</th>\n",
       "      <td>NaN</td>\n",
       "      <td>NaN</td>\n",
       "      <td>64</td>\n",
       "    </tr>\n",
       "    <tr>\n",
       "      <th>2</th>\n",
       "      <td>NaN</td>\n",
       "      <td>NaN</td>\n",
       "      <td>71</td>\n",
       "    </tr>\n",
       "    <tr>\n",
       "      <th>3</th>\n",
       "      <td>NaN</td>\n",
       "      <td>NaN</td>\n",
       "      <td>90</td>\n",
       "    </tr>\n",
       "    <tr>\n",
       "      <th>4</th>\n",
       "      <td>NaN</td>\n",
       "      <td>NaN</td>\n",
       "      <td>92</td>\n",
       "    </tr>\n",
       "  </tbody>\n",
       "</table>\n",
       "</div>"
      ],
      "text/plain": [
       "   John  Adam  David\n",
       "0  98.0  69.0     60\n",
       "1   NaN   NaN     64\n",
       "2   NaN   NaN     71\n",
       "3   NaN   NaN     90\n",
       "4   NaN   NaN     92"
      ]
     },
     "execution_count": 38,
     "metadata": {},
     "output_type": "execute_result"
    }
   ],
   "source": [
    "df.mode(axis=0) # calculates the mode for each column"
   ]
  },
  {
   "cell_type": "markdown",
   "id": "bddf9d96",
   "metadata": {},
   "source": [
    " "
   ]
  },
  {
   "cell_type": "markdown",
   "id": "d567f147",
   "metadata": {},
   "source": [
    "## Measures of Dispersion"
   ]
  },
  {
   "cell_type": "markdown",
   "id": "08211ba2",
   "metadata": {},
   "source": [
    "### Variance"
   ]
  },
  {
   "cell_type": "code",
   "execution_count": 41,
   "id": "13ebdb27",
   "metadata": {},
   "outputs": [
    {
     "name": "stdout",
     "output_type": "stream",
     "text": [
      "John      83.8\n",
      "Adam     193.5\n",
      "David    218.8\n",
      "dtype: float64\n",
      "\n",
      "John      67.04\n",
      "Adam     154.80\n",
      "David    175.04\n",
      "dtype: float64\n"
     ]
    }
   ],
   "source": [
    "print(df.var()) # returns the variance of the sample dataset\n",
    "# Using the formula to calculate the sample variance of John;\n",
    "# ( (df[\"John\"] - df[\"John\"].mean()**2).sum() ) / ( len(df[\"John\"]) - 1)\n",
    "\n",
    "print()\n",
    "\n",
    "print(df.var(ddof=0)) # returns the variance of the population dataset, ddof -> degrees of freedom\n",
    "# Using the formula to calculate the population variance of John;\n",
    "# ( (df[\"John\"] - df[\"John\"].mean()**2).sum() ) / len(df[\"John\"])"
   ]
  },
  {
   "cell_type": "markdown",
   "id": "882aa36e",
   "metadata": {},
   "source": [
    "### Standard Deviation"
   ]
  },
  {
   "cell_type": "code",
   "execution_count": 44,
   "id": "2404a10a",
   "metadata": {},
   "outputs": [
    {
     "name": "stdout",
     "output_type": "stream",
     "text": [
      "John      9.154234\n",
      "Adam     13.910428\n",
      "David    14.791890\n",
      "dtype: float64\n",
      "\n",
      "John      8.187796\n",
      "Adam     12.441865\n",
      "David    13.230268\n",
      "dtype: float64\n"
     ]
    }
   ],
   "source": [
    "print(df.std()) # standard deviation for sample dataset\n",
    "# Using the formula to calculate sample standard deviation of John\n",
    "# np.sqrt(( (df[\"John\"] - df[\"John\"].mean()**2).sum() ) / ( len(df[\"John\"]) - 1))\n",
    "\n",
    "print()\n",
    "\n",
    "print(df.std(ddof=0)) # standard deviation for population dataset\n",
    "# Using the formula to calculate population standard deviation of John\n",
    "# np.sqrt(( (df[\"John\"] - df[\"John\"].mean()**2).sum() ) / len(df[\"John\"]) )"
   ]
  },
  {
   "cell_type": "markdown",
   "id": "62e6f4e0",
   "metadata": {},
   "source": [
    " "
   ]
  },
  {
   "cell_type": "markdown",
   "id": "f5315f22",
   "metadata": {},
   "source": [
    "## Using statistics library to calculate descriptive statistics"
   ]
  },
  {
   "cell_type": "code",
   "execution_count": 60,
   "id": "f75b5e81",
   "metadata": {},
   "outputs": [
    {
     "data": {
      "text/plain": [
       "2.7838821814150108"
      ]
     },
     "execution_count": 60,
     "metadata": {},
     "output_type": "execute_result"
    }
   ],
   "source": [
    "num = [7, 2, 3, 1, 5, 6, 7 ,8, 9]\n",
    "\n",
    "st.mean(num) # mean\n",
    "st.median(num) # median\n",
    "st.mode(num) # mode\n",
    "st.variance(num) # variance\n",
    "np.sqrt(st.variance(num)) # standard deviation"
   ]
  }
 ],
 "metadata": {
  "kernelspec": {
   "display_name": "Python 3 (ipykernel)",
   "language": "python",
   "name": "python3"
  },
  "language_info": {
   "codemirror_mode": {
    "name": "ipython",
    "version": 3
   },
   "file_extension": ".py",
   "mimetype": "text/x-python",
   "name": "python",
   "nbconvert_exporter": "python",
   "pygments_lexer": "ipython3",
   "version": "3.10.6"
  }
 },
 "nbformat": 4,
 "nbformat_minor": 5
}
