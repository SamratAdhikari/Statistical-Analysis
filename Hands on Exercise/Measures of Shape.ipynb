{
 "cells": [
  {
   "cell_type": "markdown",
   "id": "4f7cfc6d",
   "metadata": {},
   "source": [
    "# Measures of Shape Exercise"
   ]
  },
  {
   "cell_type": "markdown",
   "id": "c1ba9bbb",
   "metadata": {},
   "source": [
    "### Modules"
   ]
  },
  {
   "cell_type": "code",
   "execution_count": 25,
   "id": "153062aa",
   "metadata": {},
   "outputs": [],
   "source": [
    "from scipy.stats import skew\n",
    "from scipy.stats import kurtosis as kurt\n",
    "import numpy as np\n",
    "np.random.seed(7)"
   ]
  },
  {
   "cell_type": "code",
   "execution_count": 18,
   "id": "8cef7ba4",
   "metadata": {},
   "outputs": [
    {
     "data": {
      "text/plain": [
       "array([42, 96, 34, 95, 55, 18,  9, 73, 13, 85, 43,  1, 31, 14, 80])"
      ]
     },
     "execution_count": 18,
     "metadata": {},
     "output_type": "execute_result"
    }
   ],
   "source": [
    "dataset = np.random.randint(0, 100, 15)\n",
    "dataset"
   ]
  },
  {
   "cell_type": "markdown",
   "id": "20653198",
   "metadata": {},
   "source": [
    "## Skewness"
   ]
  },
  {
   "cell_type": "markdown",
   "id": "b5b06c36",
   "metadata": {},
   "source": [
    "If skewness = 0: the data is normally distributed.  \n",
    "If skewness > 0: more weight on left tail of the distribution. positively skewed.  \n",
    "If skewness < 0: more weight on right tail of the distribution. i.e. negatively skewed.    "
   ]
  },
  {
   "cell_type": "code",
   "execution_count": 27,
   "id": "7b846bb9",
   "metadata": {},
   "outputs": [
    {
     "data": {
      "text/plain": [
       "0.26594424367896"
      ]
     },
     "execution_count": 27,
     "metadata": {},
     "output_type": "execute_result"
    }
   ],
   "source": [
    "skewness = skew(dataset, axis=0, bias=True) # axis-0 represents row\n",
    "skewness"
   ]
  },
  {
   "cell_type": "markdown",
   "id": "ddb8e0db",
   "metadata": {},
   "source": [
    "The dataset is negatively skewed."
   ]
  },
  {
   "cell_type": "markdown",
   "id": "f2decdfb",
   "metadata": {},
   "source": [
    " "
   ]
  },
  {
   "cell_type": "markdown",
   "id": "7d40c6fa",
   "metadata": {},
   "source": [
    "## Kurtosis"
   ]
  },
  {
   "cell_type": "markdown",
   "id": "cf5420fe",
   "metadata": {},
   "source": [
    "If kurtosis = 3: normally distributed data.  \n",
    "If kurtosis < 3: platykurtic data.  \n",
    "If kurtosis > 3: leptokurtic data.  "
   ]
  },
  {
   "cell_type": "code",
   "execution_count": 28,
   "id": "f6ed4f98",
   "metadata": {},
   "outputs": [
    {
     "data": {
      "text/plain": [
       "-1.3407280399085173"
      ]
     },
     "execution_count": 28,
     "metadata": {},
     "output_type": "execute_result"
    }
   ],
   "source": [
    "kurtosis = kurt(dataset, axis=0, fisher=True, bias=True)\n",
    "kurtosis"
   ]
  },
  {
   "cell_type": "markdown",
   "id": "3c644cc3",
   "metadata": {},
   "source": [
    "The dataset is platykurtic."
   ]
  }
 ],
 "metadata": {
  "kernelspec": {
   "display_name": "Python 3 (ipykernel)",
   "language": "python",
   "name": "python3"
  },
  "language_info": {
   "codemirror_mode": {
    "name": "ipython",
    "version": 3
   },
   "file_extension": ".py",
   "mimetype": "text/x-python",
   "name": "python",
   "nbconvert_exporter": "python",
   "pygments_lexer": "ipython3",
   "version": "3.10.6"
  }
 },
 "nbformat": 4,
 "nbformat_minor": 5
}
