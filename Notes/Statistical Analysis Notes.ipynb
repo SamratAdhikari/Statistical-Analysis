{
 "cells": [
  {
   "cell_type": "markdown",
   "id": "90744e86",
   "metadata": {},
   "source": [
    "# STATISTICAL ANALYSIS NOTES"
   ]
  },
  {
   "cell_type": "markdown",
   "id": "0f3bae8b",
   "metadata": {},
   "source": [
    " "
   ]
  },
  {
   "cell_type": "markdown",
   "id": "862c588c",
   "metadata": {},
   "source": [
    "## Data & Information"
   ]
  },
  {
   "cell_type": "markdown",
   "id": "2f41ad8f",
   "metadata": {},
   "source": [
    "The term 'data' and 'information' are often used interchangeably, but they aren't the same. There are subtle differences between these components and their purpose.\n",
    "\n",
    "\n",
    "<b>Data:</b>  \n",
    "Data is defined as individual facts, while information is the organization and interpretation of those facts. It is the raw form of knowledge.  \n",
    "Data can be in various forms:\n",
    "- Text\n",
    "- Observations\n",
    "- Figures\n",
    "- Numbers\n",
    "- Graphs, etc.  \n",
    "Example: Individual prices, weights, addresses, ages, names, temperatures, dates or distances.\n",
    "\n",
    "<u>Types of Data:</u>  \n",
    "- Quantitative Data: Dealing with numerical form.  \n",
    "Eg: Salary, Weight, etc\n",
    "\n",
    "- Qualitative Data: Dealing with non-numerical data.  \n",
    "Eg: Name, Gender, etc.\n",
    "\n",
    "\n",
    "<b>Information:</b>    \n",
    "Information is defined as knowledge gained through study, communication, research or instruction.  \n",
    "It is the result of analyzing and interpreting pieces of data.  \n",
    "Example:  \n",
    "- Temperature readings in a location -> Data\n",
    "- Determine seasonal temperature patterns -> Information\n",
    "\n",
    "\n",
    "<b>Difference between data & information:</b>    \n",
    "- Data is a collection of facts, while information puts those facts into context.  \n",
    "- While data is raw and unorganised, information is organised.  \n",
    "- Data points are individual and sometimes unrelated. Information maps out that data to provide a big-picture view of how it all fits together.  \n",
    "- Data, on its own, is meaningless. When its analyzed and interpreted, it becomes meaningful information.  \n",
    "- Data doesnot depend on information; however, information depends on data.  \n",
    "- Data typically comes in the form of graphs, numbers, figures or statistics. Information is typically presented through words, languages, thoughts and ideas.  \n",
    "- Data isnt sufficient for decision-making, but you can make decisions based on information.\n",
    "\n",
    "\n",
    "<b>Examples:</b>  \n",
    "- At a restaurant, a single customer's bill amount is data. However, when the restaurant owners collect and interpret multiple bills over a range of time, they can produce valuable information, such as what menu items are most popular and whether the prices are sufficient to cover supplies, overhead and wages.  \n",
    "- A customer's reponse to an individual customer service survey is a point of data. But when you compile that customer's responses over time - and, on a grander scheme, multiple customer's responses over time - you can develop insights around areas for improvement within your customer service team.\n",
    "\n",
    "Data and Information are both critical elements in business decision-making. By understanding how these components work together, you can move your business toward a more data and insights driven culture."
   ]
  },
  {
   "cell_type": "markdown",
   "id": "a2a78fce",
   "metadata": {},
   "source": [
    " "
   ]
  },
  {
   "cell_type": "markdown",
   "id": "b6c8220f",
   "metadata": {},
   "source": [
    "## Statistics"
   ]
  },
  {
   "cell_type": "markdown",
   "id": "d77a22e7",
   "metadata": {},
   "source": [
    "Statistics is the practice or science of collecting and analyzing numerical data in large quantities, especially for the purpose of inferring proportions in a whole from those in a representative sample.\n",
    "\n",
    "<b>Statistical Analysis:</b>  \n",
    "It is the science of collecting, exploring and presenting large amounts of data to discover underlying patterns and trends. We use raw data and convert into information.  \n",
    "Steps in Statistical Analysis are:\n",
    "- Analyze: Analyze the data of the sales a product related to user's demography.\n",
    "- Apply: Apply Statistical Learning on the data.\n",
    "- Predict: Predict the values of sales for a new product when its launched in a specific region.\n",
    "\n",
    "<b>Importance of Statistical Analysis:</b>\n",
    "- Helps us to collect the data using proper methods and employ the correct analysis.\n",
    "- Helps us to conduct research and present the result effectively.\n",
    "- Find the structures in data and make the relevant predictions.\n",
    "- Apply statistical methods to build machine learning models.\n",
    "\n",
    "<b>Types of Statistical Analysis:</b>  \n",
    "- Descriptive Statistics: Helps us to generate summary of the data.\n",
    "- Inferential Statistics: Helps us to make inferences and predictions about a population based on a sample."
   ]
  },
  {
   "cell_type": "markdown",
   "id": "2a314017",
   "metadata": {},
   "source": [
    " "
   ]
  },
  {
   "cell_type": "markdown",
   "id": "4642460a",
   "metadata": {},
   "source": [
    "## Types of Statistical Analysis - Descriptive Statistics"
   ]
  },
  {
   "cell_type": "markdown",
   "id": "76f37983",
   "metadata": {},
   "source": [
    "Descriptive statistics are brief descriptive coefficients that summarize a given data set.\n",
    "- Measures of Central Tendency: focus on the average or middle values of data sets.\n",
    "- Measures of Variability: focus on the dispersion of data.\n",
    "\n",
    "<b>i. Central Tendency:</b>  \n",
    "Measures of central tendency describe the center position of a distribution for a data set.  \n",
    "A person analyzes the frequency of each data point in the distribution and describes it using the mean, median or mode, which measures the most common patterns of the analyzed data set.  \n",
    "Example: The sum of the following data set is 60: (5, 10, 10, 15, 20).\n",
    "- The mean is the central value i.e 15; (60/5).\n",
    "- The mode is the value appearing most often i.e 10.\n",
    "- The median is the value positioned at the middle of the data set i.e. 10; (5+1)/2.\n",
    "\n",
    "\n",
    "<b>ii. Variability:</b>  \n",
    "Measures of variability (or the measures of spread) aid in analyzing how dispersed the distribution is for a set of data.  \n",
    "It includes standard deviation, variance, minimum and maximum variables, kurtosis and skewness.  \n",
    "The measures of central tendency may give the average of a data set but it doesnt describe how the data is distributed within the set.  \n",
    "Example: The average of the data maybe 65 out of 100, there can still be data points at both 1 and 100. Measures of variability help communicate this by describing the shape and spread of the data set.  \n",
    "Consider the following data set: 5, 19, 24, 62, 91, 100. The range of the data set is 95, which is calculated by subtracting the lowest number (5) in the data set from the highest (100).\n",
    "\n",
    "\n",
    "<b>Importance of Descriptive Statistics:</b>  \n",
    "Descriptive statistics are used to describe or summarize the characteristics of a sample or data set, such as a variable's mean, standard deviation or frequency.  \n",
    "Knowing the sample mean, variance and distribution of a variable can help us understand the world around us.\n",
    "\n",
    "\n",
    "<b>Case Study:</b>  \n",
    "The government collects information about characteristics of the population like age. By organizing this information, they can describe how the population is, what the mean age is, what the age sector with the most population is, how much the variation is, as so on.  \n",
    "Descriptive analysis helps us to describe the data and the patterns on the data collection (Population). It also helps us to make conclusions beyond the population data.\n",
    "\n",
    "The descriptive statistics helps us to understand data attributes whereas inferential statistical techniques - a seperate branch of statistics - are required to understand how variables interact with one another in a data set.  \n",
    "\n",
    "Descriptive Statistics is performed on the whole dataset."
   ]
  },
  {
   "cell_type": "markdown",
   "id": "da5d1c3e",
   "metadata": {},
   "source": [
    " "
   ]
  },
  {
   "cell_type": "markdown",
   "id": "555f4e27",
   "metadata": {},
   "source": [
    "## Types of Statistical Analysis - Inferential Statistics"
   ]
  },
  {
   "cell_type": "markdown",
   "id": "990f66bf",
   "metadata": {},
   "source": [
    " <b>i. Population: </b>  \n",
    "Population is the collection of individuals or events whose properties are to be analyzed and relationships to be identified.  \n",
    "\n",
    "<b>ii. Sample: </b>  \n",
    "Sample is the subset of population. Sample is selected based on various sampling methods. A correctly-choosen sample will have most of the information about the population.\n",
    "\n",
    "<b>Inferential Statistics:</b>  \n",
    "- Infer means to draw a conclusion.\n",
    "- Inferential Statistics are a type of statistics that focus on processing sample data so that they can make decisions or conclusions on the population.\n",
    "- It is the most preferred type of statistics as it produces accurate estimates at a relatively affordable cost.\n",
    "\n",
    "<b>Steps in Inferential Analysis:</b>  \n",
    "- Determine Population\n",
    "- Sampling\n",
    "- Data Analysis\n",
    "- Decision making for the entire population.\n",
    "\n",
    "<b>Advantages of Inferential Statistics:</b>  \n",
    "- A precise tool for estimation of population.\n",
    "- Highly structured analytical method.\n",
    "\n",
    "\n",
    "<b>Uses of Inferential Statistics:</b>  \n",
    "i. <u>Regression Analysis:</u>  \n",
    "- Regression analysis is used to predict the relationship between independent (feature) and dependent (target) variables.\n",
    "- eg: For factors influencing the decline in poverty (target), we use variables (features) such as road length, economic growth, electrification ratio, number of teachers, number of medical personnels, etc.\n",
    "\n",
    "ii. <u>Hypothesis Test:</u>  \n",
    "- Hypothesis testing helps us to prove whether the opinions or things we believe are true or false.\n",
    "- eg: Women are more addicted to instagram than men.\n",
    "\n",
    "iii. <u>Confidence Intervals:</u> \n",
    "- Estimate the population by using samples.\n",
    "- eg: Estimate the average expenditure for the entire city.\n",
    "\n",
    "iv. <u>Time Series Analysis:</u>\n",
    "- Predict future event on the basis of pre-existing data.\n",
    "- eg: Estimating the economic growth in the future.\n",
    "\n",
    "\n",
    "<b>Case Study:</b>  \n",
    "Suppose a regional head claims that the poverty rate in his area is very low. To prove this, he conducted a household income and expenditure survey that was theoretically able to produce poverty. Considering the survey period and budget, 10,000 household samples were selected from a total of 1,000,000 households in the district. Based on the survey result, it was found that there were still 5,000 poor people. Ofcourse, this number is not entirely true considering the survey always has errors. Confidence intervals were made to strengthen the results of this survey.  \n",
    "\n",
    "Inferential Statistics is performed on the sample of the dataset."
   ]
  },
  {
   "cell_type": "markdown",
   "id": "d2f7a00a",
   "metadata": {},
   "source": [
    " "
   ]
  },
  {
   "cell_type": "markdown",
   "id": "26a3ff49",
   "metadata": {},
   "source": [
    "## Relationship between Statistics and Machine Learning"
   ]
  },
  {
   "cell_type": "markdown",
   "id": "2f3f6435",
   "metadata": {},
   "source": [
    "<b>i. Statistical Learning:</b>\n",
    "- Involves building of statistical models based on explicitly programmed instructions.\n",
    "- Prior knowledge in the data is required.\n",
    "\n",
    "<b>ii. Machine Learning:</b>\n",
    "- Involves building the systems which can learn from data.\n",
    "- No prior knowledge is required about the relationships in data.\n",
    "\n",
    "<b> Applications of Statistical Analysis in Machine Learning & Data Science:</b>\n",
    "- Overcome Uncertainty:  \n",
    "    - Statistics is used in reducing uncertainty by conducting hypothesis testing.\n",
    "\n",
    "- Data Preparation:  \n",
    "    - Statistics helps in data understanding, selection, data manipulation as well as data cleaning activity.\n",
    "\n",
    "- Modelling:  \n",
    "    - Apply right model on the basis of statistical relationship in data.\n",
    "\n",
    "- Pattern Recognition:  \n",
    "    - Used in recognition of patterns in the given data.\n",
    "\n",
    "- Knowledge Discovery:  \n",
    "    - Improve the model accuracy by applying statistical analysis on data.\n",
    "\n",
    "\n",
    "<b>Examples of Statistical Analysis applied in Machine Learning:</b>\n",
    "- Problem Framing: Exploratory Data Analysis & Data Mining.\n",
    "- Data Understanding: Summary Statistics, Data Visualization.\n",
    "- Data Cleaning: Outlier Detection, Imputation.\n",
    "- Data Selection: Data Sample, Feature Sample.\n",
    "- Data Preparation: Scaling, Encoding, Transforms.\n",
    "- Model Evaluation: Resampling Methods.\n",
    "- Model Configuration, Selection & Presentation: Hypothesis test, Estimation & CI.\n",
    "- Model Prediction: Inferential Statistics, Estimation Statistics."
   ]
  },
  {
   "cell_type": "markdown",
   "id": "6c161993",
   "metadata": {},
   "source": [
    " "
   ]
  },
  {
   "cell_type": "markdown",
   "id": "be49a63b",
   "metadata": {},
   "source": [
    "## Understanding the Types of Data"
   ]
  },
  {
   "cell_type": "markdown",
   "id": "2cd4bdd4",
   "metadata": {},
   "source": [
    "<b>i. Qualitative Data:</b>\n",
    "   - This takes on values in a set of categories.\n",
    "   - Can be used as labels.\n",
    "   - Mathematical Computation cannot be performed on these values.\n",
    "   - The data is categorized based on the level of measurement.  \n",
    "   - eg: Country, Gender, etc.\n",
    "   - Levels of Measurement are:  \n",
    "       - Nominal:  \n",
    "            - Collection of names.  \n",
    "            - eg: Favourite Color, Gender. \n",
    "       - Ordinal:  \n",
    "            - Non-numerical data with a set order or scale to it.\n",
    "            - eg: Rating of an Restaurant, Likert scale.\n",
    "   \n",
    "<b>ii. Quantitative Data:</b>  \n",
    "   - This takes on numerical values.\n",
    "   - The values are something which can be measured/counted.\n",
    "   - Mathematical computations are possible on this data type.\n",
    "   - Levels of Measurement are:  \n",
    "       - Discrete:\n",
    "           - Data that only takes certain values.\n",
    "           - eg: Number of children.\n",
    "       - Continuous:\n",
    "           - Data which has values that are not fixed and have an infinite number of possible values.\n",
    "           - eg: Salary.\n",
    "\n",
    "<br>\n",
    "\n",
    "<b>Variables in Statistics:</b>    \n",
    "- Variable represents an unknown value or a value which could vary.  \n",
    "\n",
    "- Dependent Variables:\n",
    "    - The variable that depends on other variables or factors.\n",
    "    - Dependent variable is the effect in research study.\n",
    "    - The outcome of an experiment, outcome column in a dataset, typically denoted by 'y'.\n",
    "    - eg: Whether the person is affected by COVID19 or not.  \n",
    "    \n",
    "- Independent Variables:\n",
    "    - The variable that doesnot depend on ther variables or factors.\n",
    "    - Independent variable is the cause in research study.\n",
    "    - A variable typically denoted by 'x', input columns in a dataset.\n",
    "    - eg: RBC count, O2 level, Weight, etc.  \n",
    "    \n",
    "- Categorical Variable:\n",
    "    - Variable holding qualitative data in the dataset.  \n",
    "    \n",
    "- Continuous Variable:\n",
    "    - Variable holding quantitative data.  "
   ]
  },
  {
   "cell_type": "markdown",
   "id": "19e3eb93",
   "metadata": {},
   "source": [
    " "
   ]
  },
  {
   "cell_type": "markdown",
   "id": "e29356db",
   "metadata": {},
   "source": [
    " "
   ]
  },
  {
   "cell_type": "markdown",
   "id": "c6c8d7ed",
   "metadata": {},
   "source": [
    "## Statistical Methods- Sampling Techniques"
   ]
  },
  {
   "cell_type": "markdown",
   "id": "73c01f23",
   "metadata": {},
   "source": [
    "- Sampling is a technique of selecting individual members or a subset of the population to make statistical inferences from them and estimate characteristics of the whole population.\n",
    "\n",
    "- Types:\n",
    "    - Probability Sampling:\n",
    "        - Probability sampling is a sampling technique where a researcher sets a selection of a few criteria and chooses members of a population randomly. All the members have an equal opportunity to be a part of the sample with this selection parameter.\n",
    "        \n",
    "    - Non-probability Sampling:\n",
    "        - In non-probability sampling, the researcher chooses members for research at random. This sampling method is not a fixed or predefined selection process. This makes it difficult for all elements of the population to have equal opportunities to be included in a sample.\n",
    "\n",
    "\n",
    "\n",
    "<b>Sampling Framework:</b>  \n",
    "- Sample Goal:\n",
    "    - Population property that we wish to estimate using the sample.\n",
    "\n",
    "- Population:\n",
    "    - Scope or domain from which the observations could theoretically be made.\n",
    "    \n",
    "- Selection Criteria:\n",
    "    - Methodology used to accept or reject the observations in our sample.\n",
    "    \n",
    "- Sample Size:\n",
    "    - The number of observations included in the study (or sample).\n",
    "\n",
    "\n",
    "<b>Steps Involved in Sampling Framework:</b>  \n",
    "1. Identify & define target population.\n",
    "2. Select sampling frame: List of items or people which are forming a population from which the sample is taken.\n",
    "3. Choose sampling methods.\n",
    "4. Determine sampling methods.\n",
    "5. Collect the required data.\n",
    "\n",
    "\n",
    "<br>\n",
    "\n",
    "<b>Types of Probability Sampling:</b>  \n",
    "- <u>Simple random sampling:</u>\n",
    "    - Every individual is choosen entirely by chance and each member of the population has an equal chance of being seletced.\n",
    "    - Simple random sampling reduces selection bias.\n",
    "    - It also reduces the chance of sampling error.\n",
    "    - Sampling error is lowest in this method out of all the sampling methods.\n",
    "    <img src='assets/Simple-random-sampling.png' width=\"500\" height=\"500\">\n",
    "\n",
    "<br>\n",
    "\n",
    "- <u>Cluster sampling:</u>\n",
    "    - We use the subgroups of the population as the sampling unit rather than individuals.\n",
    "    - The population is divided into subgroups, known as clusters and a whole cluster is randomly selected to be included in the study.\n",
    "    - This type of sampling is used when we focus on a specific region or area.\n",
    "    <img src='assets/Cluster-sampling.png' width=\"500\" height=\"500\">\n",
    "    \n",
    "<br>\n",
    "\n",
    "- <u>Systematic sampling:</u>\n",
    "    - Systematic sampling is a statistical method that researchers use to zero down on the desired population they want to research.\n",
    "    - Researchers calculate the sampling interval by dividing the entire population size by the desired sample size.\n",
    "    - Systematic sampling is an extended implementation of probability sampling in which each member of the group is selected at regular periods to form a sample.\n",
    "    <img src='assets/Systematic-sampling.png' width='500' height='500'>\n",
    "    \n",
    "<br>\n",
    "\n",
    "- <u>Stratified random sampling:</u>  \n",
    "    - Divide the population into subgroups (called strata) based on different traits like gender, age, etc.\n",
    "    - Select the sample(s) from each subgroup.\n",
    "    - This type of sampling is used when we want representation from all the subgroups of the population.\n",
    "    <img src='assets/Stratified-random-sampling.png' width='300' height='300'>\n",
    "\n",
    "\n",
    "<br><br>\n",
    "\n",
    "<b>Types of Non-Probability Sampling:</b>\n",
    "- <u>Convenience Sampling:</u>\n",
    "    - Relies on data collection from population members who are conveniently avaliable to participate in study.\n",
    "    - Easy to carry out at a relatively low cost in a timely manner.\n",
    "    - Social Media Polls is an example.\n",
    "    <img src='assets/Convenience-sampling.png' width='500' height='500'>\n",
    "    \n",
    "<br>\n",
    "\n",
    "- <u>Judgemental or Purposive or Selective Sampling:</u>  \n",
    "    - Based on the assessment of experts in the field when choosing who to ask to be included in the sample.\n",
    "    - Lets say you are selecting from a group of men aged 30-35 and the experts decide that only the men who have a college degree will be best suited to be included in the sample. This would be judgemental sampling.\n",
    "    <img src='assets/Judgmental-sampling.png' width='500' height='500'>\n",
    "    \n",
    "<br>\n",
    "\n",
    "- <u>Snowball Sampling:</u>\n",
    "    - Existing people are asked to nominate further people known to them so that the sample increases in size like a rolling snowball.\n",
    "    - Effective when a sampling frame is difficult to identity.\n",
    "    <img src='assets/Snowball-sampling.png' width='500' height='500'>\n",
    "    \n",
    "<br>\n",
    "\n",
    "- <u>Quota Sampling:</u>\n",
    "    - Choosing the items based on predetermined characteristics of the population.\n",
    "    - Researchers form a sample of individuals who are representative of a larger population.\n",
    "    - eg: All men in a company, voters in the age range of 18-22 yrs in a region, etc.\n",
    "    <img src='assets/Quota-Sampling.png' width='500' height='500'>\n",
    "\n",
    "\n",
    "<br>\n",
    "\n",
    "<b>Understanding the Data Sampling Errors:<b>\n",
    "- When the data sampling occurs, it requires those involved, to make statistical conclusions about the population from a series of observations.\n",
    "- There are two types of errors:\n",
    "    - Selection Bias:\n",
    "        - Occurs when participants in the sample are 'not equally balanced' or objectively represented.\n",
    "    - Sampling Error:\n",
    "        - Occurs when the sample doesnot include 'all members' of the population."
   ]
  },
  {
   "cell_type": "markdown",
   "id": "fa5ca19f",
   "metadata": {},
   "source": [
    " "
   ]
  },
  {
   "cell_type": "markdown",
   "id": "230a633e",
   "metadata": {},
   "source": [
    "## Descriptive Statistics - Measures of Central Tendency"
   ]
  },
  {
   "cell_type": "markdown",
   "id": "e39da12d",
   "metadata": {},
   "source": [
    "- A measure of central tendency is a single value that represents the center point of a dataset. This value can also be referred to as \"the central location\" of a dataset.\n",
    "- Three common measures of central tendency are:\n",
    "    - Mean\n",
    "    - Median\n",
    "    - Mode\n",
    "    \n",
    "<b>Use Case of Measures of Central Tendency:</b>\n",
    "- A young couple is trying to decide where to buy their first home in a new city and the most they can spend is \\\\$140k. Some neighbourhoods in the city have expensive houses, some have cheap houses and others have medium-priced houses. They want to easily narrow down their search to specific neighbourhoods that are within their budget.\n",
    "- Neighbourhood A home prices: \\\\$140k, \\\\$190k, \\\\$265k, \\\\$115k, \\\\$270k, \\\\$240k, \\\\$250k, \\\\$180k, \\\\$160k, \\\\$200k, \\\\$240k, \\\\$280k, ... \n",
    "- Neighbourhood B home prices: \\\\$140k, \\\\$290k, \\\\$155k, \\\\$165k, \\\\$280k, \\\\$220k, \\\\$155k, \\\\$185k, \\\\$160k, \\\\200k, \\\\$190, \\\\$140k, \\\\$145k, ...\n",
    "- Neighbourhood C home prices: \\\\$140k, \\\\$130k, \\\\$165k, \\\\$115k, \\\\$170k, \\\\$100k, \\\\$150k, \\\\$180k, \\\\$190k, \\\\$120k, \\\\$110k, \\\\$130k, \\\\$120k, ...\n",
    "\n",
    "<u>Average:</u>\n",
    "- Average Neighbourhood A home price: \\\\$200k.  \n",
    "- Average Neighbourhood B home price: \\\\$190k.\n",
    "- Average Neighbourhood C home price: \\\\$140k.  \n",
    "Therefore, house price in Neighbourhood C is under their budget.\n",
    "\n",
    "<br>\n",
    "\n",
    "<b>i. Mean:</b>\n",
    "- The mean represents the average value of the dataset. It can be calculated as the sum of the values in the dataset divided by the number of values.\n",
    "- Mean (x̄) = $\\frac{Σx}{N}$\n",
    "\n",
    "<b>ii. Median:</b>\n",
    "- The median is the middle value in a dataset.\n",
    "- You can find the median by arranging all the individual values in a dataset from smallest to largest and finding the middle value.\n",
    "- If there are an odd number of values, the median is the middle value.\n",
    "    - Median (Md) = $\\frac{N+1}{2}$ ᵗʰ  item\n",
    "- If there are an even number of values, the median is the average of two middle values.\n",
    "    - Median (Md) = ( $\\frac{N+1}{2}$ ᵗʰ item + $\\frac{N}{2}$ ᵗʰ item ) / 2 ᵗʰ item\n",
    "    \n",
    "<b>iii. Mode:</b>\n",
    "- The mode is the value that occurs most often in a dataset.\n",
    "- A dataset can have no mode (if no value repeats), one mode or multiple modes.\n",
    "\n",
    "<br>\n",
    "\n",
    "<b>When to use Mean?</b>\n",
    "- When the distribution of the data is symmetrical and there are no outliers.\n",
    "- Suppose we have the following distribution that shows the salaries of individuals in a certain town.\n",
    "- Distribution is Symmetrical.\n",
    "<img src=\"assets/Salary-Distribution-Mean.png\" width=\"400\" height=\"400\">\n",
    "\n",
    "<br>\n",
    "\n",
    "<b>When to use Median?</b>\n",
    "- When the distribution is skewed (distorted).\n",
    "- Suppose we have the following distribution that shows the salaries of individuals in a certain town.\n",
    "- Median can capture the typical salary.\n",
    "<img src=\"assets/Salary-Distribution-Median.png\" width=\"400\" height=\"400\">\n",
    "\n",
    "<br>\n",
    "\n",
    "<b>When to use Mode?</b>\n",
    "- When working with Categorical data.\n",
    "- Finding which category occurs most frequently.\n",
    "<img src=\"assets/Survival-Distribution-Mode.png\" width=\"500\" height=\"500\">"
   ]
  },
  {
   "cell_type": "markdown",
   "id": "2376e05f",
   "metadata": {},
   "source": [
    " "
   ]
  },
  {
   "cell_type": "markdown",
   "id": "3333bcdf",
   "metadata": {},
   "source": [
    "## Descriptive Statistics - Measures of Spread"
   ]
  }
 ],
 "metadata": {
  "kernelspec": {
   "display_name": "Python 3 (ipykernel)",
   "language": "python",
   "name": "python3"
  },
  "language_info": {
   "codemirror_mode": {
    "name": "ipython",
    "version": 3
   },
   "file_extension": ".py",
   "mimetype": "text/x-python",
   "name": "python",
   "nbconvert_exporter": "python",
   "pygments_lexer": "ipython3",
   "version": "3.10.6"
  }
 },
 "nbformat": 4,
 "nbformat_minor": 5
}
