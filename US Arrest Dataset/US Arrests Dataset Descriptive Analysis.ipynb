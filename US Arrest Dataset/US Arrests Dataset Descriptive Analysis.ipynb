{
 "cells": [
  {
   "cell_type": "markdown",
   "id": "338c96aa",
   "metadata": {},
   "source": [
    "# US ARRESTS DATASET"
   ]
  },
  {
   "cell_type": "markdown",
   "id": "78ec8c43",
   "metadata": {},
   "source": [
    " "
   ]
  },
  {
   "cell_type": "markdown",
   "id": "1b56d54d",
   "metadata": {},
   "source": [
    "## Modules"
   ]
  },
  {
   "cell_type": "code",
   "execution_count": 5,
   "id": "5ae956af",
   "metadata": {},
   "outputs": [],
   "source": [
    "import numpy as np\n",
    "import pandas as pd\n",
    "import matplotlib.pyplot as plt\n",
    "import seaborn as sbs\n",
    "import scipy.stats as sts\n",
    "\n",
    "import warnings\n",
    "warnings.filterwarnings('ignore')"
   ]
  },
  {
   "cell_type": "markdown",
   "id": "142b2cb5",
   "metadata": {},
   "source": [
    " "
   ]
  },
  {
   "cell_type": "markdown",
   "id": "d76e41b8",
   "metadata": {},
   "source": [
    "## Initializing the dataframe"
   ]
  },
  {
   "cell_type": "code",
   "execution_count": 7,
   "id": "42b37d8e",
   "metadata": {},
   "outputs": [
    {
     "data": {
      "text/html": [
       "<div>\n",
       "<style scoped>\n",
       "    .dataframe tbody tr th:only-of-type {\n",
       "        vertical-align: middle;\n",
       "    }\n",
       "\n",
       "    .dataframe tbody tr th {\n",
       "        vertical-align: top;\n",
       "    }\n",
       "\n",
       "    .dataframe thead th {\n",
       "        text-align: right;\n",
       "    }\n",
       "</style>\n",
       "<table border=\"1\" class=\"dataframe\">\n",
       "  <thead>\n",
       "    <tr style=\"text-align: right;\">\n",
       "      <th></th>\n",
       "      <th>Unnamed: 0</th>\n",
       "      <th>Murder</th>\n",
       "      <th>Assault</th>\n",
       "      <th>UrbanPop</th>\n",
       "      <th>Fraud</th>\n",
       "    </tr>\n",
       "  </thead>\n",
       "  <tbody>\n",
       "    <tr>\n",
       "      <th>0</th>\n",
       "      <td>Alabama</td>\n",
       "      <td>13.2</td>\n",
       "      <td>236</td>\n",
       "      <td>58</td>\n",
       "      <td>21.2</td>\n",
       "    </tr>\n",
       "    <tr>\n",
       "      <th>1</th>\n",
       "      <td>Alaska</td>\n",
       "      <td>10.0</td>\n",
       "      <td>263</td>\n",
       "      <td>48</td>\n",
       "      <td>44.5</td>\n",
       "    </tr>\n",
       "    <tr>\n",
       "      <th>2</th>\n",
       "      <td>Arizona</td>\n",
       "      <td>8.1</td>\n",
       "      <td>294</td>\n",
       "      <td>80</td>\n",
       "      <td>31.0</td>\n",
       "    </tr>\n",
       "    <tr>\n",
       "      <th>3</th>\n",
       "      <td>Arkansas</td>\n",
       "      <td>8.8</td>\n",
       "      <td>190</td>\n",
       "      <td>50</td>\n",
       "      <td>19.5</td>\n",
       "    </tr>\n",
       "    <tr>\n",
       "      <th>4</th>\n",
       "      <td>California</td>\n",
       "      <td>9.0</td>\n",
       "      <td>276</td>\n",
       "      <td>91</td>\n",
       "      <td>40.6</td>\n",
       "    </tr>\n",
       "  </tbody>\n",
       "</table>\n",
       "</div>"
      ],
      "text/plain": [
       "   Unnamed: 0  Murder  Assault  UrbanPop  Fraud\n",
       "0     Alabama    13.2      236        58   21.2\n",
       "1      Alaska    10.0      263        48   44.5\n",
       "2     Arizona     8.1      294        80   31.0\n",
       "3    Arkansas     8.8      190        50   19.5\n",
       "4  California     9.0      276        91   40.6"
      ]
     },
     "execution_count": 7,
     "metadata": {},
     "output_type": "execute_result"
    }
   ],
   "source": [
    "df = pd.read_excel('USArrests.xlsx')\n",
    "df.head()"
   ]
  },
  {
   "cell_type": "markdown",
   "id": "a4f330a2",
   "metadata": {},
   "source": [
    " "
   ]
  },
  {
   "cell_type": "markdown",
   "id": "6dc0e936",
   "metadata": {},
   "source": [
    "### Changing the column names"
   ]
  },
  {
   "cell_type": "code",
   "execution_count": 10,
   "id": "85f455ba",
   "metadata": {},
   "outputs": [
    {
     "data": {
      "text/html": [
       "<div>\n",
       "<style scoped>\n",
       "    .dataframe tbody tr th:only-of-type {\n",
       "        vertical-align: middle;\n",
       "    }\n",
       "\n",
       "    .dataframe tbody tr th {\n",
       "        vertical-align: top;\n",
       "    }\n",
       "\n",
       "    .dataframe thead th {\n",
       "        text-align: right;\n",
       "    }\n",
       "</style>\n",
       "<table border=\"1\" class=\"dataframe\">\n",
       "  <thead>\n",
       "    <tr style=\"text-align: right;\">\n",
       "      <th></th>\n",
       "      <th>State</th>\n",
       "      <th>Murder</th>\n",
       "      <th>Assault</th>\n",
       "      <th>UrbanPop</th>\n",
       "      <th>Fraud</th>\n",
       "    </tr>\n",
       "  </thead>\n",
       "  <tbody>\n",
       "    <tr>\n",
       "      <th>0</th>\n",
       "      <td>Alabama</td>\n",
       "      <td>13.2</td>\n",
       "      <td>236</td>\n",
       "      <td>58</td>\n",
       "      <td>21.2</td>\n",
       "    </tr>\n",
       "    <tr>\n",
       "      <th>1</th>\n",
       "      <td>Alaska</td>\n",
       "      <td>10.0</td>\n",
       "      <td>263</td>\n",
       "      <td>48</td>\n",
       "      <td>44.5</td>\n",
       "    </tr>\n",
       "    <tr>\n",
       "      <th>2</th>\n",
       "      <td>Arizona</td>\n",
       "      <td>8.1</td>\n",
       "      <td>294</td>\n",
       "      <td>80</td>\n",
       "      <td>31.0</td>\n",
       "    </tr>\n",
       "    <tr>\n",
       "      <th>3</th>\n",
       "      <td>Arkansas</td>\n",
       "      <td>8.8</td>\n",
       "      <td>190</td>\n",
       "      <td>50</td>\n",
       "      <td>19.5</td>\n",
       "    </tr>\n",
       "    <tr>\n",
       "      <th>4</th>\n",
       "      <td>California</td>\n",
       "      <td>9.0</td>\n",
       "      <td>276</td>\n",
       "      <td>91</td>\n",
       "      <td>40.6</td>\n",
       "    </tr>\n",
       "  </tbody>\n",
       "</table>\n",
       "</div>"
      ],
      "text/plain": [
       "        State  Murder  Assault  UrbanPop  Fraud\n",
       "0     Alabama    13.2      236        58   21.2\n",
       "1      Alaska    10.0      263        48   44.5\n",
       "2     Arizona     8.1      294        80   31.0\n",
       "3    Arkansas     8.8      190        50   19.5\n",
       "4  California     9.0      276        91   40.6"
      ]
     },
     "execution_count": 10,
     "metadata": {},
     "output_type": "execute_result"
    }
   ],
   "source": [
    "df.columns\n",
    "df.rename(columns={'Unnamed: 0':'State'}, inplace=True)\n",
    "df.head()"
   ]
  },
  {
   "cell_type": "markdown",
   "id": "9ea6f20a",
   "metadata": {},
   "source": [
    "### Analyzing the Five Points Summary"
   ]
  },
  {
   "cell_type": "code",
   "execution_count": 12,
   "id": "5749768e",
   "metadata": {},
   "outputs": [
    {
     "data": {
      "text/html": [
       "<div>\n",
       "<style scoped>\n",
       "    .dataframe tbody tr th:only-of-type {\n",
       "        vertical-align: middle;\n",
       "    }\n",
       "\n",
       "    .dataframe tbody tr th {\n",
       "        vertical-align: top;\n",
       "    }\n",
       "\n",
       "    .dataframe thead th {\n",
       "        text-align: right;\n",
       "    }\n",
       "</style>\n",
       "<table border=\"1\" class=\"dataframe\">\n",
       "  <thead>\n",
       "    <tr style=\"text-align: right;\">\n",
       "      <th></th>\n",
       "      <th>Murder</th>\n",
       "      <th>Assault</th>\n",
       "      <th>UrbanPop</th>\n",
       "      <th>Fraud</th>\n",
       "    </tr>\n",
       "  </thead>\n",
       "  <tbody>\n",
       "    <tr>\n",
       "      <th>count</th>\n",
       "      <td>50.00000</td>\n",
       "      <td>50.000000</td>\n",
       "      <td>50.00000</td>\n",
       "      <td>50.000000</td>\n",
       "    </tr>\n",
       "    <tr>\n",
       "      <th>mean</th>\n",
       "      <td>7.78800</td>\n",
       "      <td>170.760000</td>\n",
       "      <td>663.84000</td>\n",
       "      <td>21.232000</td>\n",
       "    </tr>\n",
       "    <tr>\n",
       "      <th>std</th>\n",
       "      <td>4.35551</td>\n",
       "      <td>83.337661</td>\n",
       "      <td>4233.45191</td>\n",
       "      <td>9.366385</td>\n",
       "    </tr>\n",
       "    <tr>\n",
       "      <th>min</th>\n",
       "      <td>0.80000</td>\n",
       "      <td>45.000000</td>\n",
       "      <td>32.00000</td>\n",
       "      <td>7.300000</td>\n",
       "    </tr>\n",
       "    <tr>\n",
       "      <th>25%</th>\n",
       "      <td>4.07500</td>\n",
       "      <td>109.000000</td>\n",
       "      <td>54.50000</td>\n",
       "      <td>15.075000</td>\n",
       "    </tr>\n",
       "    <tr>\n",
       "      <th>50%</th>\n",
       "      <td>7.25000</td>\n",
       "      <td>159.000000</td>\n",
       "      <td>66.00000</td>\n",
       "      <td>20.100000</td>\n",
       "    </tr>\n",
       "    <tr>\n",
       "      <th>75%</th>\n",
       "      <td>11.25000</td>\n",
       "      <td>249.000000</td>\n",
       "      <td>77.75000</td>\n",
       "      <td>26.175000</td>\n",
       "    </tr>\n",
       "    <tr>\n",
       "      <th>max</th>\n",
       "      <td>17.40000</td>\n",
       "      <td>337.000000</td>\n",
       "      <td>30000.00000</td>\n",
       "      <td>46.000000</td>\n",
       "    </tr>\n",
       "  </tbody>\n",
       "</table>\n",
       "</div>"
      ],
      "text/plain": [
       "         Murder     Assault     UrbanPop      Fraud\n",
       "count  50.00000   50.000000     50.00000  50.000000\n",
       "mean    7.78800  170.760000    663.84000  21.232000\n",
       "std     4.35551   83.337661   4233.45191   9.366385\n",
       "min     0.80000   45.000000     32.00000   7.300000\n",
       "25%     4.07500  109.000000     54.50000  15.075000\n",
       "50%     7.25000  159.000000     66.00000  20.100000\n",
       "75%    11.25000  249.000000     77.75000  26.175000\n",
       "max    17.40000  337.000000  30000.00000  46.000000"
      ]
     },
     "execution_count": 12,
     "metadata": {},
     "output_type": "execute_result"
    }
   ],
   "source": [
    "df.describe()"
   ]
  },
  {
   "cell_type": "markdown",
   "id": "71f5a3b1",
   "metadata": {},
   "source": [
    "### Measures of Shape and Position for 'Assault' & 'Fraud' columns"
   ]
  },
  {
   "cell_type": "code",
   "execution_count": 27,
   "id": "a20621f4",
   "metadata": {},
   "outputs": [
    {
     "data": {
      "text/plain": [
       "array([1.93097995, 3.20189779])"
      ]
     },
     "execution_count": 27,
     "metadata": {},
     "output_type": "execute_result"
    }
   ],
   "source": [
    "# IQR\n",
    "sts.iqr(df[['Assault', 'Fraud']], axis=0)\n",
    "\n",
    "# Skewness\n",
    "sts.skew(df[['Assault', 'Fraud']], axis=0)\n",
    "\n",
    "# Kurtosis\n",
    "sts.kurtosis(df[['Assault', 'Fraud']], axis=0, fisher=True)\n",
    "sts.kurtosis(df[['Assault', 'Fraud']], axis=0, fisher=False)"
   ]
  },
  {
   "cell_type": "markdown",
   "id": "b29bcc0e",
   "metadata": {},
   "source": [
    "### Z-score for 'Assault' column"
   ]
  },
  {
   "cell_type": "code",
   "execution_count": 23,
   "id": "2afa5d34",
   "metadata": {},
   "outputs": [
    {
     "data": {
      "text/plain": [
       "0     0.790787\n",
       "1     1.118060\n",
       "2     1.493817\n",
       "3     0.233212\n",
       "4     1.275635\n",
       "5     0.402909\n",
       "6    -0.736484\n",
       "7     0.815030\n",
       "8     1.990786\n",
       "9     0.487757\n",
       "10   -1.512241\n",
       "11   -0.615272\n",
       "12    0.948363\n",
       "13   -0.700121\n",
       "14   -1.391029\n",
       "15   -0.675878\n",
       "16   -0.748605\n",
       "17    0.948363\n",
       "18   -1.063757\n",
       "19    1.566544\n",
       "20   -0.263757\n",
       "21    1.021090\n",
       "22   -1.197090\n",
       "23    1.069575\n",
       "24    0.087757\n",
       "25   -0.748605\n",
       "26   -0.833454\n",
       "27    0.984726\n",
       "28   -1.378908\n",
       "29   -0.142545\n",
       "30    1.384726\n",
       "31    1.008969\n",
       "32    2.015028\n",
       "33   -1.524362\n",
       "34   -0.615272\n",
       "35   -0.239515\n",
       "36   -0.142545\n",
       "37   -0.784969\n",
       "38    0.039273\n",
       "39    1.311999\n",
       "40   -1.027393\n",
       "41    0.208970\n",
       "42    0.366545\n",
       "43   -0.615272\n",
       "44   -1.487999\n",
       "45   -0.178909\n",
       "46   -0.312242\n",
       "47   -1.087999\n",
       "48   -1.427393\n",
       "49   -0.118303\n",
       "Name: Assault, dtype: float64"
      ]
     },
     "execution_count": 23,
     "metadata": {},
     "output_type": "execute_result"
    }
   ],
   "source": [
    "sts.zscore(df['Assault'])"
   ]
  },
  {
   "cell_type": "markdown",
   "id": "7f02ef22",
   "metadata": {},
   "source": [
    "### Measures of Variability for 'UrbanPop' & 'Assault' column"
   ]
  },
  {
   "cell_type": "code",
   "execution_count": 54,
   "id": "858de59e",
   "metadata": {},
   "outputs": [
    {
     "data": {
      "text/plain": [
       "Assault     6.945166e+03\n",
       "UrbanPop    1.792212e+07\n",
       "dtype: float64"
      ]
     },
     "execution_count": 54,
     "metadata": {},
     "output_type": "execute_result"
    }
   ],
   "source": [
    "# Range\n",
    "np.ptp(df[['Assault', 'UrbanPop']])\n",
    "\n",
    "# Standard Deciation\n",
    "df[['Assault', 'UrbanPop']].std()\n",
    "\n",
    "# Variance\n",
    "df[['Assault', 'UrbanPop']].var()"
   ]
  },
  {
   "cell_type": "markdown",
   "id": "2ed27d1f",
   "metadata": {},
   "source": [
    "### Detect Outliers for 'UrbanPop' column using IQR"
   ]
  },
  {
   "cell_type": "code",
   "execution_count": 43,
   "id": "ab093d7c",
   "metadata": {},
   "outputs": [],
   "source": [
    "def outlier_finder(column):\n",
    "    Q3 = np.quantile(df[column], 0.75)\n",
    "    Q1 = np.quantile(df[column], 0.25)\n",
    "    \n",
    "    IQR = Q3 - Q1\n",
    "    \n",
    "    lower_limit = Q1 - 1.5*IQR\n",
    "    upper_limit = Q3 + 1.5*IQR\n",
    "    \n",
    "    return df[ (df[column] < lower_limit) | (df[column] > upper_limit) ]"
   ]
  },
  {
   "cell_type": "code",
   "execution_count": 45,
   "id": "4cbdef0d",
   "metadata": {},
   "outputs": [
    {
     "data": {
      "text/html": [
       "<div>\n",
       "<style scoped>\n",
       "    .dataframe tbody tr th:only-of-type {\n",
       "        vertical-align: middle;\n",
       "    }\n",
       "\n",
       "    .dataframe tbody tr th {\n",
       "        vertical-align: top;\n",
       "    }\n",
       "\n",
       "    .dataframe thead th {\n",
       "        text-align: right;\n",
       "    }\n",
       "</style>\n",
       "<table border=\"1\" class=\"dataframe\">\n",
       "  <thead>\n",
       "    <tr style=\"text-align: right;\">\n",
       "      <th></th>\n",
       "      <th>State</th>\n",
       "      <th>Murder</th>\n",
       "      <th>Assault</th>\n",
       "      <th>UrbanPop</th>\n",
       "      <th>Fraud</th>\n",
       "    </tr>\n",
       "  </thead>\n",
       "  <tbody>\n",
       "    <tr>\n",
       "      <th>20</th>\n",
       "      <td>Massachusetts</td>\n",
       "      <td>4.4</td>\n",
       "      <td>149</td>\n",
       "      <td>30000</td>\n",
       "      <td>16.3</td>\n",
       "    </tr>\n",
       "  </tbody>\n",
       "</table>\n",
       "</div>"
      ],
      "text/plain": [
       "            State  Murder  Assault  UrbanPop  Fraud\n",
       "20  Massachusetts     4.4      149     30000   16.3"
      ]
     },
     "execution_count": 45,
     "metadata": {},
     "output_type": "execute_result"
    }
   ],
   "source": [
    "outlier_finder('Fraud')\n",
    "outlier_finder('UrbanPop')"
   ]
  },
  {
   "cell_type": "markdown",
   "id": "095057b3",
   "metadata": {},
   "source": [
    "### Detect Outliers for 'UrbanPop' column using Z-score"
   ]
  },
  {
   "cell_type": "code",
   "execution_count": 48,
   "id": "aae03c9d",
   "metadata": {},
   "outputs": [
    {
     "data": {
      "text/plain": [
       "(array([20]),)"
      ]
     },
     "execution_count": 48,
     "metadata": {},
     "output_type": "execute_result"
    }
   ],
   "source": [
    "z = np.abs(sts.zscore(df['UrbanPop']))\n",
    "np.where(z > 2)"
   ]
  },
  {
   "cell_type": "code",
   "execution_count": 49,
   "id": "ee03f2e2",
   "metadata": {},
   "outputs": [
    {
     "data": {
      "text/plain": [
       "State       Massachusetts\n",
       "Murder                4.4\n",
       "Assault               149\n",
       "UrbanPop            30000\n",
       "Fraud                16.3\n",
       "Name: 20, dtype: object"
      ]
     },
     "execution_count": 49,
     "metadata": {},
     "output_type": "execute_result"
    }
   ],
   "source": [
    "df.iloc[20]"
   ]
  }
 ],
 "metadata": {
  "kernelspec": {
   "display_name": "Python 3 (ipykernel)",
   "language": "python",
   "name": "python3"
  },
  "language_info": {
   "codemirror_mode": {
    "name": "ipython",
    "version": 3
   },
   "file_extension": ".py",
   "mimetype": "text/x-python",
   "name": "python",
   "nbconvert_exporter": "python",
   "pygments_lexer": "ipython3",
   "version": "3.10.6"
  }
 },
 "nbformat": 4,
 "nbformat_minor": 5
}
